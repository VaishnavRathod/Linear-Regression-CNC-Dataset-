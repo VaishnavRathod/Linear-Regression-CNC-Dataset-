{
 "cells": [
  {
   "cell_type": "code",
   "execution_count": 1,
   "id": "b064935f",
   "metadata": {},
   "outputs": [],
   "source": [
    "# Importing Libraries\n",
    "import numpy as np\n",
    "import pandas as pd\n",
    "from sklearn import linear_model\n",
    "import math"
   ]
  },
  {
   "cell_type": "code",
   "execution_count": 2,
   "id": "fed09889",
   "metadata": {},
   "outputs": [
    {
     "data": {
      "text/html": [
       "<div>\n",
       "<style scoped>\n",
       "    .dataframe tbody tr th:only-of-type {\n",
       "        vertical-align: middle;\n",
       "    }\n",
       "\n",
       "    .dataframe tbody tr th {\n",
       "        vertical-align: top;\n",
       "    }\n",
       "\n",
       "    .dataframe thead th {\n",
       "        text-align: right;\n",
       "    }\n",
       "</style>\n",
       "<table border=\"1\" class=\"dataframe\">\n",
       "  <thead>\n",
       "    <tr style=\"text-align: right;\">\n",
       "      <th></th>\n",
       "      <th>Speed</th>\n",
       "      <th>Feed</th>\n",
       "      <th>cut</th>\n",
       "      <th>Roughness</th>\n",
       "    </tr>\n",
       "  </thead>\n",
       "  <tbody>\n",
       "    <tr>\n",
       "      <th>0</th>\n",
       "      <td>1200</td>\n",
       "      <td>30</td>\n",
       "      <td>0.50</td>\n",
       "      <td>1.70</td>\n",
       "    </tr>\n",
       "    <tr>\n",
       "      <th>1</th>\n",
       "      <td>1200</td>\n",
       "      <td>50</td>\n",
       "      <td>0.50</td>\n",
       "      <td>2.28</td>\n",
       "    </tr>\n",
       "    <tr>\n",
       "      <th>2</th>\n",
       "      <td>1200</td>\n",
       "      <td>70</td>\n",
       "      <td>0.50</td>\n",
       "      <td>5.30</td>\n",
       "    </tr>\n",
       "    <tr>\n",
       "      <th>3</th>\n",
       "      <td>1200</td>\n",
       "      <td>30</td>\n",
       "      <td>0.75</td>\n",
       "      <td>2.70</td>\n",
       "    </tr>\n",
       "    <tr>\n",
       "      <th>4</th>\n",
       "      <td>1200</td>\n",
       "      <td>50</td>\n",
       "      <td>0.75</td>\n",
       "      <td>2.30</td>\n",
       "    </tr>\n",
       "    <tr>\n",
       "      <th>5</th>\n",
       "      <td>1200</td>\n",
       "      <td>70</td>\n",
       "      <td>0.75</td>\n",
       "      <td>4.40</td>\n",
       "    </tr>\n",
       "    <tr>\n",
       "      <th>6</th>\n",
       "      <td>1200</td>\n",
       "      <td>30</td>\n",
       "      <td>1.00</td>\n",
       "      <td>2.50</td>\n",
       "    </tr>\n",
       "    <tr>\n",
       "      <th>7</th>\n",
       "      <td>1200</td>\n",
       "      <td>50</td>\n",
       "      <td>1.00</td>\n",
       "      <td>1.60</td>\n",
       "    </tr>\n",
       "    <tr>\n",
       "      <th>8</th>\n",
       "      <td>1200</td>\n",
       "      <td>70</td>\n",
       "      <td>1.00</td>\n",
       "      <td>4.30</td>\n",
       "    </tr>\n",
       "    <tr>\n",
       "      <th>9</th>\n",
       "      <td>1350</td>\n",
       "      <td>30</td>\n",
       "      <td>0.50</td>\n",
       "      <td>5.60</td>\n",
       "    </tr>\n",
       "    <tr>\n",
       "      <th>10</th>\n",
       "      <td>1350</td>\n",
       "      <td>50</td>\n",
       "      <td>0.50</td>\n",
       "      <td>7.30</td>\n",
       "    </tr>\n",
       "    <tr>\n",
       "      <th>11</th>\n",
       "      <td>1350</td>\n",
       "      <td>70</td>\n",
       "      <td>0.50</td>\n",
       "      <td>2.10</td>\n",
       "    </tr>\n",
       "    <tr>\n",
       "      <th>12</th>\n",
       "      <td>1350</td>\n",
       "      <td>30</td>\n",
       "      <td>0.75</td>\n",
       "      <td>5.20</td>\n",
       "    </tr>\n",
       "    <tr>\n",
       "      <th>13</th>\n",
       "      <td>1350</td>\n",
       "      <td>50</td>\n",
       "      <td>0.75</td>\n",
       "      <td>3.10</td>\n",
       "    </tr>\n",
       "    <tr>\n",
       "      <th>14</th>\n",
       "      <td>1350</td>\n",
       "      <td>70</td>\n",
       "      <td>0.75</td>\n",
       "      <td>2.50</td>\n",
       "    </tr>\n",
       "    <tr>\n",
       "      <th>15</th>\n",
       "      <td>1350</td>\n",
       "      <td>30</td>\n",
       "      <td>1.00</td>\n",
       "      <td>1.60</td>\n",
       "    </tr>\n",
       "    <tr>\n",
       "      <th>16</th>\n",
       "      <td>1350</td>\n",
       "      <td>50</td>\n",
       "      <td>1.00</td>\n",
       "      <td>4.30</td>\n",
       "    </tr>\n",
       "    <tr>\n",
       "      <th>17</th>\n",
       "      <td>1350</td>\n",
       "      <td>70</td>\n",
       "      <td>1.00</td>\n",
       "      <td>5.60</td>\n",
       "    </tr>\n",
       "    <tr>\n",
       "      <th>18</th>\n",
       "      <td>1500</td>\n",
       "      <td>30</td>\n",
       "      <td>0.50</td>\n",
       "      <td>3.20</td>\n",
       "    </tr>\n",
       "    <tr>\n",
       "      <th>19</th>\n",
       "      <td>1500</td>\n",
       "      <td>50</td>\n",
       "      <td>0.50</td>\n",
       "      <td>2.20</td>\n",
       "    </tr>\n",
       "    <tr>\n",
       "      <th>20</th>\n",
       "      <td>1500</td>\n",
       "      <td>70</td>\n",
       "      <td>0.50</td>\n",
       "      <td>2.10</td>\n",
       "    </tr>\n",
       "    <tr>\n",
       "      <th>21</th>\n",
       "      <td>1500</td>\n",
       "      <td>30</td>\n",
       "      <td>0.75</td>\n",
       "      <td>4.30</td>\n",
       "    </tr>\n",
       "    <tr>\n",
       "      <th>22</th>\n",
       "      <td>1500</td>\n",
       "      <td>50</td>\n",
       "      <td>0.75</td>\n",
       "      <td>6.40</td>\n",
       "    </tr>\n",
       "    <tr>\n",
       "      <th>23</th>\n",
       "      <td>1500</td>\n",
       "      <td>70</td>\n",
       "      <td>0.75</td>\n",
       "      <td>7.54</td>\n",
       "    </tr>\n",
       "    <tr>\n",
       "      <th>24</th>\n",
       "      <td>1500</td>\n",
       "      <td>30</td>\n",
       "      <td>1.00</td>\n",
       "      <td>8.90</td>\n",
       "    </tr>\n",
       "    <tr>\n",
       "      <th>25</th>\n",
       "      <td>1500</td>\n",
       "      <td>50</td>\n",
       "      <td>1.00</td>\n",
       "      <td>2.67</td>\n",
       "    </tr>\n",
       "    <tr>\n",
       "      <th>26</th>\n",
       "      <td>1500</td>\n",
       "      <td>70</td>\n",
       "      <td>1.00</td>\n",
       "      <td>1.18</td>\n",
       "    </tr>\n",
       "  </tbody>\n",
       "</table>\n",
       "</div>"
      ],
      "text/plain": [
       "    Speed  Feed   cut  Roughness\n",
       "0    1200    30  0.50       1.70\n",
       "1    1200    50  0.50       2.28\n",
       "2    1200    70  0.50       5.30\n",
       "3    1200    30  0.75       2.70\n",
       "4    1200    50  0.75       2.30\n",
       "5    1200    70  0.75       4.40\n",
       "6    1200    30  1.00       2.50\n",
       "7    1200    50  1.00       1.60\n",
       "8    1200    70  1.00       4.30\n",
       "9    1350    30  0.50       5.60\n",
       "10   1350    50  0.50       7.30\n",
       "11   1350    70  0.50       2.10\n",
       "12   1350    30  0.75       5.20\n",
       "13   1350    50  0.75       3.10\n",
       "14   1350    70  0.75       2.50\n",
       "15   1350    30  1.00       1.60\n",
       "16   1350    50  1.00       4.30\n",
       "17   1350    70  1.00       5.60\n",
       "18   1500    30  0.50       3.20\n",
       "19   1500    50  0.50       2.20\n",
       "20   1500    70  0.50       2.10\n",
       "21   1500    30  0.75       4.30\n",
       "22   1500    50  0.75       6.40\n",
       "23   1500    70  0.75       7.54\n",
       "24   1500    30  1.00       8.90\n",
       "25   1500    50  1.00       2.67\n",
       "26   1500    70  1.00       1.18"
      ]
     },
     "execution_count": 2,
     "metadata": {},
     "output_type": "execute_result"
    }
   ],
   "source": [
    "# Loading dataset\n",
    "df = pd.read_csv('CNC.csv')\n",
    "df"
   ]
  },
  {
   "cell_type": "code",
   "execution_count": 3,
   "id": "63d49fa5",
   "metadata": {},
   "outputs": [],
   "source": [
    "linreg = linear_model.LinearRegression()"
   ]
  },
  {
   "cell_type": "code",
   "execution_count": 4,
   "id": "4926370d",
   "metadata": {},
   "outputs": [
    {
     "data": {
      "text/plain": [
       "LinearRegression()"
      ]
     },
     "execution_count": 4,
     "metadata": {},
     "output_type": "execute_result"
    }
   ],
   "source": [
    "# training model\n",
    "linreg.fit(df[['Speed','Feed','cut']],df['Roughness'])"
   ]
  },
  {
   "cell_type": "code",
   "execution_count": 5,
   "id": "49d82633",
   "metadata": {},
   "outputs": [
    {
     "data": {
      "text/plain": [
       "array([ 0.00422593, -0.00188889,  0.19333333])"
      ]
     },
     "execution_count": 5,
     "metadata": {},
     "output_type": "execute_result"
    }
   ],
   "source": [
    "# Coefficients of X1, X2, X3\n",
    "linreg.coef_\n"
   ]
  },
  {
   "cell_type": "code",
   "execution_count": 6,
   "id": "4a058a98",
   "metadata": {},
   "outputs": [
    {
     "data": {
      "text/plain": [
       "-1.9455555555555542"
      ]
     },
     "execution_count": 6,
     "metadata": {},
     "output_type": "execute_result"
    }
   ],
   "source": [
    "# Value of Y intercept \n",
    "linreg.intercept_"
   ]
  },
  {
   "cell_type": "code",
   "execution_count": 12,
   "id": "3a052d39",
   "metadata": {},
   "outputs": [
    {
     "data": {
      "text/plain": [
       "array([3.16555556])"
      ]
     },
     "execution_count": 12,
     "metadata": {},
     "output_type": "execute_result"
    }
   ],
   "source": [
    "linreg.predict([[1200, 30, 0.5]])"
   ]
  },
  {
   "cell_type": "code",
   "execution_count": 8,
   "id": "8c8b4c12",
   "metadata": {},
   "outputs": [],
   "source": [
    "speed = list(df['Speed'])"
   ]
  },
  {
   "cell_type": "code",
   "execution_count": 9,
   "id": "3784b31a",
   "metadata": {},
   "outputs": [],
   "source": [
    "feed = list(df['Feed'])"
   ]
  },
  {
   "cell_type": "code",
   "execution_count": 10,
   "id": "ed504b57",
   "metadata": {},
   "outputs": [],
   "source": [
    "cut = list(df['cut'])"
   ]
  },
  {
   "cell_type": "code",
   "execution_count": 11,
   "id": "22255f3a",
   "metadata": {},
   "outputs": [
    {
     "name": "stdout",
     "output_type": "stream",
     "text": [
      "[3.16555556]\n",
      "[3.12777778]\n",
      "[3.09]\n",
      "[3.21388889]\n",
      "[3.17611111]\n",
      "[3.13833333]\n",
      "[3.26222222]\n",
      "[3.22444444]\n",
      "[3.18666667]\n",
      "[3.79944444]\n",
      "[3.76166667]\n",
      "[3.72388889]\n",
      "[3.84777778]\n",
      "[3.81]\n",
      "[3.77222222]\n",
      "[3.89611111]\n",
      "[3.85833333]\n",
      "[3.82055556]\n",
      "[4.43333333]\n",
      "[4.39555556]\n",
      "[4.35777778]\n",
      "[4.48166667]\n",
      "[4.44388889]\n",
      "[4.40611111]\n",
      "[4.53]\n",
      "[4.49222222]\n",
      "[4.45444444]\n"
     ]
    }
   ],
   "source": [
    "for i in range(0,27):\n",
    "    print(linreg.predict([[speed[i], feed[i],cut[i]]]))\n",
    "    "
   ]
  },
  {
   "cell_type": "code",
   "execution_count": null,
   "id": "1e49b2b5",
   "metadata": {},
   "outputs": [],
   "source": []
  }
 ],
 "metadata": {
  "kernelspec": {
   "display_name": "Python 3",
   "language": "python",
   "name": "python3"
  },
  "language_info": {
   "codemirror_mode": {
    "name": "ipython",
    "version": 3
   },
   "file_extension": ".py",
   "mimetype": "text/x-python",
   "name": "python",
   "nbconvert_exporter": "python",
   "pygments_lexer": "ipython3",
   "version": "3.8.8"
  }
 },
 "nbformat": 4,
 "nbformat_minor": 5
}
